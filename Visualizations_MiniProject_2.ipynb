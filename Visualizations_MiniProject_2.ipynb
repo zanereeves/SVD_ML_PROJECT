{
  "nbformat": 4,
  "nbformat_minor": 0,
  "metadata": {
    "colab": {
      "provenance": []
    },
    "kernelspec": {
      "name": "python3",
      "display_name": "Python 3"
    },
    "language_info": {
      "name": "python"
    }
  },
  "cells": [
    {
      "cell_type": "code",
      "execution_count": null,
      "metadata": {
        "id": "ldfXKZUvF4_g"
      },
      "outputs": [],
      "source": [
        "import numpy as np\n",
        "import csv\n",
        "import matplotlib.pyplot as plt\n",
        "import plotly.express as px\n",
        "from heapq import nlargest\n",
        "from operator import itemgetter\n",
        "from sklearn.model_selection import train_test_split\n",
        "def grad_U(Ui, Yij, Vj, reg, eta):\n",
        "    \"\"\"\n",
        "    Takes as input Ui (the ith row of U), a training point Yij, the column\n",
        "    vector Vj (jth column of V^T), reg (the regularization parameter lambda),\n",
        "    and eta (the learning rate).\n",
        "\n",
        "    Returns the gradient of the regularized loss function with\n",
        "    respect to Ui multiplied by eta.\n",
        "    \"\"\"\n",
        "    grad = eta*(reg*Ui + (-1*Vj)*(Yij-np.dot(Ui,Vj)))\n",
        "    return grad\n",
        "\n",
        "def grad_V(Vj, Yij, Ui, reg, eta):\n",
        "    \"\"\"\n",
        "    Takes as input the column vector Vj (jth column of V^T), a training point Yij,\n",
        "    Ui (the ith row of U), reg (the regularization parameter lambda),\n",
        "    and eta (the learning rate).\n",
        "\n",
        "    Returns the gradient of the regularized loss function with\n",
        "    respect to Vj multiplied by eta.\n",
        "    \"\"\"\n",
        "    grad = eta*(reg*Vj + (-1*Ui)*(Yij-np.dot(Ui,Vj)))\n",
        "    return grad\n",
        "\n",
        "def get_err(U, V, Y, reg=0.0):\n",
        "    \"\"\"\n",
        "    Takes as input a matrix Y of triples (i, j, Y_ij) where i is the index of a user,\n",
        "    j is the index of a movie, and Y_ij is user i's rating of movie j and\n",
        "    user/movie matrices U and V.\n",
        "\n",
        "    Returns the mean regularized squared-error of predictions made by\n",
        "    estimating Y_{ij} as the dot product of the ith row of U and the jth column of V^T.\n",
        "    \"\"\"\n",
        "    err = 0\n",
        "    for item in Y:\n",
        "      err += 1/2*(item[2]-np.dot(U[item[0]-1],V[item[1]-1]))**2\n",
        "    return err/(len(Y))\n",
        "\n",
        "\n",
        "def train_model(M, N, K, eta, reg, Y, eps=0.0001, max_epochs=300):\n",
        "    \"\"\"\n",
        "    Given a training data matrix Y containing rows (i, j, Y_ij)\n",
        "    where Y_ij is user i's rating on movie j, learns an\n",
        "    M x K matrix U and N x K matrix V such that rating Y_ij is approximated\n",
        "    by (UV^T)_ij.\n",
        "\n",
        "    Uses a learning rate of <eta> and regularization of <reg>. Stops after\n",
        "    <max_epochs> epochs, or once the magnitude of the decrease in regularized\n",
        "    MSE between epochs is smaller than a fraction <eps> of the decrease in\n",
        "    MSE after the first epoch.\n",
        "\n",
        "    Returns a tuple (U, V, err) consisting of U, V, and the unregularized MSE\n",
        "    of the model.\n",
        "    \"\"\"\n",
        "    U = np.random.uniform(-.5,.5,size=[M, K])\n",
        "    V = np.random.uniform(-.5,.5,size=[N, K])\n",
        "    length = len(Y)\n",
        "    err = get_err(U, V, Y, reg)\n",
        "    past_err = err\n",
        "    for m in range(max_epochs):\n",
        "      for x in np.random.permutation(Y):\n",
        "        i = x[0] - 1\n",
        "        j = x[1] - 1\n",
        "        U[i] -= grad_U(U[i], x[2], V[j], reg, eta)\n",
        "        V[j] -= grad_V(V[j], x[2], U[i], reg, eta)\n",
        "      err = get_err(U, V, Y, reg)\n",
        "      current_tup = (U, V, err)\n",
        "      if (-1*current_tup[2] + past_err < eps):\n",
        "        break\n",
        "      else:\n",
        "        past_err = current_tup[2]\n",
        "    return current_tup\n"
      ]
    },
    {
      "cell_type": "code",
      "source": [
        "# download the dataset\n",
        "!wget -O data.csv https://raw.githubusercontent.com/emiletimothy/Caltech-CS155-2023/main/miniproject2/data/data.csv\n",
        "!wget -O movies.csv https://raw.githubusercontent.com/emiletimothy/Caltech-CS155-2023/main/miniproject2/data/movies.csv"
      ],
      "metadata": {
        "colab": {
          "base_uri": "https://localhost:8080/"
        },
        "id": "e-Ur-_O8GpYa",
        "outputId": "beb774fb-2347-407f-9c46-537287360ba9"
      },
      "execution_count": null,
      "outputs": [
        {
          "output_type": "stream",
          "name": "stdout",
          "text": [
            "--2023-02-27 05:37:53--  https://raw.githubusercontent.com/emiletimothy/Caltech-CS155-2023/main/miniproject2/data/data.csv\n",
            "Resolving raw.githubusercontent.com (raw.githubusercontent.com)... 185.199.108.133, 185.199.109.133, 185.199.110.133, ...\n",
            "Connecting to raw.githubusercontent.com (raw.githubusercontent.com)|185.199.108.133|:443... connected.\n",
            "HTTP request sent, awaiting response... 200 OK\n",
            "Length: 1596528 (1.5M) [text/plain]\n",
            "Saving to: ‘data.csv’\n",
            "\n",
            "data.csv            100%[===================>]   1.52M  --.-KB/s    in 0.02s   \n",
            "\n",
            "2023-02-27 05:37:53 (66.7 MB/s) - ‘data.csv’ saved [1596528/1596528]\n",
            "\n",
            "--2023-02-27 05:37:53--  https://raw.githubusercontent.com/emiletimothy/Caltech-CS155-2023/main/miniproject2/data/movies.csv\n",
            "Resolving raw.githubusercontent.com (raw.githubusercontent.com)... 185.199.108.133, 185.199.109.133, 185.199.110.133, ...\n",
            "Connecting to raw.githubusercontent.com (raw.githubusercontent.com)|185.199.108.133|:443... connected.\n",
            "HTTP request sent, awaiting response... 200 OK\n",
            "Length: 104093 (102K) [text/plain]\n",
            "Saving to: ‘movies.csv’\n",
            "\n",
            "movies.csv          100%[===================>] 101.65K  --.-KB/s    in 0.008s  \n",
            "\n",
            "2023-02-27 05:37:53 (13.1 MB/s) - ‘movies.csv’ saved [104093/104093]\n",
            "\n"
          ]
        }
      ]
    },
    {
      "cell_type": "code",
      "source": [
        "user_data = {'User ID': [], 'Movie ID': [], 'Rating': []}\n",
        "movie_data = {}\n",
        "\n",
        "with open('movies.csv') as csvfile:\n",
        "  reader = csv.reader(csvfile, delimiter=',')\n",
        "  fieldnames = next(reader)\n",
        "  for field in fieldnames:\n",
        "    movie_data[field] = []\n",
        "  for row in reader:\n",
        "    for i in range(len(fieldnames)):\n",
        "      field = fieldnames[i]\n",
        "      spec_row = row[i]\n",
        "      movie_data[field].append(spec_row)\n",
        "\n",
        "with open('data.csv') as csvfile:\n",
        "  fieldnames = ['User ID', 'Movie ID', 'Rating']\n",
        "  reader = csv.reader(csvfile, delimiter=',')\n",
        "  next(reader)\n",
        "  for row in reader:\n",
        "    user_data['User ID'].append(row[0])\n",
        "    user_data['Movie ID'].append(row[1])\n",
        "    user_data['Rating'].append(row[2])"
      ],
      "metadata": {
        "id": "hGqdRO8RHcU6"
      },
      "execution_count": null,
      "outputs": []
    },
    {
      "cell_type": "markdown",
      "source": [
        "**All ratings in the MovieLens Dataset.**"
      ],
      "metadata": {
        "id": "yqNgxBnJcOa3"
      }
    },
    {
      "cell_type": "code",
      "source": [
        "\n",
        "arr_rating = [0,0,0,0,0,0,0,0,0,0,0]\n",
        "\n",
        "for rating in user_data['Rating']:\n",
        "  arr_rating[int(2*float(rating))] += 1\n",
        "\n",
        "bins = [\"0\",\"0.5\",\"1\",\"1.5\",\"2\",\"2.5\",\"3\",\"3.5\",\"4\",\"4.5\",\"5\"]\n",
        "\n",
        "plt.bar(bins, arr_rating)\n",
        "\n",
        "plt.xlabel('Rating Value')\n",
        "plt.ylabel('Number of Ratings')\n",
        "\n",
        "plt.title('Visualization of all ratings\\n', fontweight =\"bold\")\n",
        "\n",
        "plt.show()\n",
        "\n"
      ],
      "metadata": {
        "colab": {
          "base_uri": "https://localhost:8080/",
          "height": 309
        },
        "id": "kH71SI_vOsxN",
        "outputId": "ec140856-f78e-4a9b-94b9-a9879652004d"
      },
      "execution_count": null,
      "outputs": [
        {
          "output_type": "display_data",
          "data": {
            "text/plain": [
              "<Figure size 432x288 with 1 Axes>"
            ],
            "image/png": "[encoded data removed]"
          },
          "metadata": {
            "needs_background": "light"
          }
        }
      ]
    },
    {
      "cell_type": "markdown",
      "source": [
        "**Ratings of the ten most popular movies**"
      ],
      "metadata": {
        "id": "kUVVwEUgcIeB"
      }
    },
    {
      "cell_type": "code",
      "source": [
        "arr_most_rating = {}\n",
        "\n",
        "for movie in user_data['Movie ID']:\n",
        "  if movie in arr_most_rating:\n",
        "    arr_most_rating[movie] += 1\n",
        "  else:\n",
        "    arr_most_rating[movie] = 1\n",
        "\n",
        "ten_highest_ratings = dict(sorted(arr_most_rating.items(), key = itemgetter(1), reverse = True)[:10])\n",
        "\n",
        "list_most_rating_names = []\n",
        "for key in ten_highest_ratings:\n",
        "  for i in range(len(movie_data['Movie ID'])):\n",
        "    if movie_data['Movie ID'][i] == key:\n",
        "      list_most_rating_names.append(movie_data['Movie Title'][i])\n",
        "print(list_most_rating_names)\n",
        "arr_rating = [0,0,0,0,0,0,0,0,0,0,0]\n",
        "for i in range(len(list_most_rating_names)):\n",
        "  curr_mov_id = list(ten_highest_ratings.keys())[i]\n",
        "  curr_name = list_most_rating_names[i]\n",
        "\n",
        "  for i in range(len(user_data['Movie ID'])):\n",
        "    if user_data['Movie ID'][i] == curr_mov_id:\n",
        "      arr_rating[int(2*float(user_data['Rating'][i]))] += 1\n",
        "\n",
        "plt.xlabel('Rating Value')\n",
        "plt.ylabel('Number of Ratings')\n",
        "\n",
        "plt.title('Visualization of ratings for the 10 most popular movies\\n', fontweight =\"bold\")\n",
        "bins = [\"0\",\"0.5\",\"1\",\"1.5\",\"2\",\"2.5\",\"3\",\"3.5\",\"4\",\"4.5\",\"5\"]\n",
        "plt.bar(bins, arr_rating)\n",
        "plt.show()\n",
        "\n",
        "\n"
      ],
      "metadata": {
        "colab": {
          "base_uri": "https://localhost:8080/",
          "height": 348
        },
        "id": "oXZZwM81cCIb",
        "outputId": "b8df00f3-e24b-4217-ce23-1d5e5d4f97b6"
      },
      "execution_count": null,
      "outputs": [
        {
          "output_type": "stream",
          "name": "stdout",
          "text": [
            "['Lord of the Rings: The Fellowship of the Ring, The (2001)', 'Lord of the Rings: The Two Towers, The (2002)', 'Lord of the Rings: The Return of the King, The (2003)', 'Shrek (2001)', 'Pirates of the Caribbean: The Curse of the Black Pearl (2003)', 'Dark Knight, The (2008)', 'Finding Nemo (2003)', 'Kill Bill: Vol. 1 (2003)', 'Monsters, Inc. (2001)', \"Ocean's Eleven (2001)\"]\n"
          ]
        },
        {
          "output_type": "display_data",
          "data": {
            "text/plain": [
              "<Figure size 432x288 with 1 Axes>"
            ],
            "image/png": "[encoded data removed]"
          },
          "metadata": {
            "needs_background": "light"
          }
        }
      ]
    },
    {
      "cell_type": "markdown",
      "source": [
        "**Ratings of the ten best movies**"
      ],
      "metadata": {
        "id": "uta9vRP3fMMq"
      }
    },
    {
      "cell_type": "code",
      "source": [
        "arr_most_rating = {}\n",
        "arr_sum_rating = {}\n",
        "\n",
        "for i in range(len(user_data['Movie ID'])):\n",
        "  movie = user_data['Movie ID'][i]\n",
        "  rating = user_data['Rating'][i]\n",
        "  if movie in arr_most_rating:\n",
        "    arr_most_rating[movie] += 1\n",
        "    arr_sum_rating[movie] += float(rating)\n",
        "  else:\n",
        "    arr_most_rating[movie] = 1\n",
        "    arr_sum_rating[movie] = float(rating)\n",
        "\n",
        "avg_rating = {}\n",
        "for key in arr_most_rating:\n",
        "  num_occ = arr_most_rating[key]\n",
        "  sum_of_ratings = arr_sum_rating[key]\n",
        "  avg = sum_of_ratings/num_occ\n",
        "  avg_rating[key]= avg\n",
        "\n",
        "\n",
        "ten_highest_ratings = dict(sorted(avg_rating.items(), key = itemgetter(1), reverse = True)[:10])\n",
        "\n",
        "list_most_rating_names = []\n",
        "for key in ten_highest_ratings:\n",
        "  for i in range(len(movie_data['Movie ID'])):\n",
        "    if movie_data['Movie ID'][i] == key:\n",
        "      list_most_rating_names.append(movie_data['Movie Title'][i])\n",
        "\n",
        "print(list_most_rating_names)\n",
        "print(ten_highest_ratings)\n",
        "\n",
        "arr_rating = [0,0,0,0,0,0,0,0,0,0,0]\n",
        "for i in range(len(list_most_rating_names)):\n",
        "  curr_mov_id = list(ten_highest_ratings.keys())[i]\n",
        "  curr_name = list_most_rating_names[i]\n",
        "\n",
        "  for i in range(len(user_data['Movie ID'])):\n",
        "    if user_data['Movie ID'][i] == curr_mov_id:\n",
        "      arr_rating[int(2*float(user_data['Rating'][i]))] += 1\n",
        "\n",
        "\n",
        "plt.xlabel('Rating Value')\n",
        "plt.ylabel('Number of Ratings')\n",
        "\n",
        "plt.title('Visualization of ratings for the 10 best movies\\n', fontweight =\"bold\")\n",
        "bins = [\"0\",\"0.5\",\"1\",\"1.5\",\"2\",\"2.5\",\"3\",\"3.5\",\"4\",\"4.5\",\"5\"]\n",
        "plt.bar(bins, arr_rating)\n",
        "plt.show()"
      ],
      "metadata": {
        "colab": {
          "base_uri": "https://localhost:8080/",
          "height": 366
        },
        "id": "QlXfhUWnclU-",
        "outputId": "2a2c71ea-f0f8-4acb-93e3-e609686d0605"
      },
      "execution_count": null,
      "outputs": [
        {
          "output_type": "stream",
          "name": "stdout",
          "text": [
            "['Planet Earth (2006)', 'Black Mirror: White Christmas (2014)', 'Akeelah and the Bee (2006)', 'Barbarian Invasions, The (Les invasions barbares) (2003)', 'Louis C.K.: Live at The Comedy Store (2015)', \"Blue Is the Warmest Color (La vie d'Adèle) (2013)\", 'Elite Squad: The Enemy Within (Tropa de Elite 2 - O Inimigo Agora É Outro) (2010)', 'City of God (Cidade de Deus) (2002)', 'Incendies (2010)', 'Piper (2016)']\n",
            "{'1020': 4.467741935483871, '157': 4.454545454545454, '53': 4.3, '120': 4.275, '811': 4.264705882352941, '171': 4.258620689655173, '393': 4.241935483870968, '258': 4.201465201465202, '646': 4.1875, '1009': 4.176470588235294}\n"
          ]
        },
        {
          "output_type": "display_data",
          "data": {
            "text/plain": [
              "<Figure size 432x288 with 1 Axes>"
            ],
            "image/png": "[encoded data removed]"
          },
          "metadata": {
            "needs_background": "light"
          }
        }
      ]
    },
    {
      "cell_type": "markdown",
      "source": [
        "Ratings from three different genres"
      ],
      "metadata": {
        "id": "OAmQZTghkJcr"
      }
    },
    {
      "cell_type": "code",
      "source": [
        "for genre in ['Comedy', 'Mystery', 'Children']:\n",
        "\n",
        "  ratings = [0,0,0,0,0,0,0,0,0,0,0]\n",
        "  for i in range(len(user_data['Movie ID'])):\n",
        "    movie_id = user_data['Movie ID'][i]\n",
        "    keys = list(movie_data.keys())\n",
        "    mov_genre = ''\n",
        "    for j in range(2,len(keys)):\n",
        "      if movie_data[keys[j]][int(movie_id)] != '0':\n",
        "        mov_genre = keys[j]\n",
        "    if mov_genre == genre:\n",
        "     ratings[int(2*float(user_data['Rating'][i]))] += 1\n",
        "\n",
        "  plt.xlabel('Rating Value')\n",
        "  plt.ylabel('Number of Ratings')\n",
        "  title = 'Visualization of ratings for '+ genre + '\\n'\n",
        "  plt.title(title, fontweight =\"bold\")\n",
        "  bins = [\"0\",\"0.5\",\"1\",\"1.5\",\"2\",\"2.5\",\"3\",\"3.5\",\"4\",\"4.5\",\"5\"]\n",
        "  plt.bar(bins, ratings)\n",
        "  plt.show()\n",
        "  print()\n",
        "\n"
      ],
      "metadata": {
        "colab": {
          "base_uri": "https://localhost:8080/",
          "height": 944
        },
        "id": "kA2-9NwEkHl8",
        "outputId": "77a33113-172f-4c36-8c65-087a033c598b"
      },
      "execution_count": null,
      "outputs": [
        {
          "output_type": "display_data",
          "data": {
            "text/plain": [
              "<Figure size 432x288 with 1 Axes>"
            ],
            "image/png": "[encoded data removed]"
          },
          "metadata": {
            "needs_background": "light"
          }
        },
        {
          "output_type": "stream",
          "name": "stdout",
          "text": [
            "\n"
          ]
        },
        {
          "output_type": "display_data",
          "data": {
            "text/plain": [
              "<Figure size 432x288 with 1 Axes>"
            ],
            "image/png": "[encoded data removed]"
          },
          "metadata": {
            "needs_background": "light"
          }
        },
        {
          "output_type": "stream",
          "name": "stdout",
          "text": [
            "\n"
          ]
        },
        {
          "output_type": "display_data",
          "data": {
            "text/plain": [
              "<Figure size 432x288 with 1 Axes>"
            ],
            "image/png": "[encoded data removed]"
          },
          "metadata": {
            "needs_background": "light"
          }
        },
        {
          "output_type": "stream",
          "name": "stdout",
          "text": [
            "\n"
          ]
        }
      ]
    }
  ]
}